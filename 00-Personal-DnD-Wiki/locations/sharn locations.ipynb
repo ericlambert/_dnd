{
 "cells": [
  {
   "attachments": {},
   "cell_type": "markdown",
   "metadata": {},
   "source": [
    "# Locations in Sharn"
   ]
  },
  {
   "attachments": {},
   "cell_type": "markdown",
   "metadata": {},
   "source": [
    "## Travel in Sharn\n",
    "\n",
    "Travel in Sharn can be unpredictable. Residents joke that it takes about an hour to get anywhere, whether it’s just down three levels in the same tower or all the way across town. Of course, skycoaches reduce the time dramatically compared to walking from place to place, and characters who really know their way around (as well as characters who are willing to ask for directions frequently along the way) can get to their destinations more quickly than newcomers who refuse to display their ignorance. If it becomes important to know how long it takes to get from one place to another, use the following rules of thumb:\n",
    "\n",
    "| Mode of Travel and Destination        | Travel Time         |\n",
    "|--------------------------------------|---------------------|\n",
    "| Foot Travel                          |                     |\n",
    "| Destination in same district         | 3d6 minutes         |\n",
    "| Destination in same ward             | 6d6 minutes         |\n",
    "| Destination in adjacent ward         | 3d6 × 5 minutes    |\n",
    "| Destination farther than adjacent ward| 6d6 × 5 minutes    |\n",
    "| Flying Travel                        |                     |\n",
    "| Destination in same district         | 1d6 minutes         |\n",
    "| Destination in same ward             | 2d6 minutes         |\n",
    "| Destination in adjacent ward         | 1d6 × 5 minutes    |\n",
    "| Destination farther than adjacent ward| 2d6 × 5 minutes    |\n",
    "\n",
    "A party can reduce this time by one-half if one character makes a successful DC 15 Knowledge (local) or Gather Information check.\n"
   ]
  },
  {
   "attachments": {},
   "cell_type": "markdown",
   "metadata": {},
   "source": [
    "![Sharn Districts](https://5e.tools/img/book/ERLW/099-3-04.jpg)"
   ]
  },
  {
   "attachments": {},
   "cell_type": "markdown",
   "metadata": {},
   "source": [
    "# Lyrandar Tower\n",
    "\n",
    "Lyrandar Tower is a towering structure that is situated in the Upper Northedge ward of Sharn. It is one of the tallest structures in the city, and it is easily recognizable due to the Lyrandar family crest emblazoned on its exterior. The tower is used as the primary base of operations for House Lyrandar in the city, and it is home to a variety of facilities and amenities.\n",
    "\n",
    "The lower levels of Lyrandar Tower contain offices, meeting rooms, and facilities for airship maintenance and storage. The middle levels contain training facilities for pilots, sailors, and other Lyrandar employees, as well as lodging for guests and visitors. The upper levels of the tower are reserved for the Lyrandar family and their close associates, and they contain luxurious living quarters, private offices, and a variety of other amenities.\n",
    "\n",
    "The tower is also home to a variety of magical and technological defenses, including wards and traps designed to detect and deter intruders. These defenses are maintained by skilled Lyrandar employees, and they are constantly updated and improved to ensure the safety and security of the tower's occupants. Overall, Lyrandar Tower is an impressive and formidable structure that serves as a symbol of House Lyrandar's power and influence in the city of Sharn."
   ]
  },
  {
   "cell_type": "markdown",
   "metadata": {},
   "source": [
    "# Dava Gate\n",
    "\n",
    "The Dava Gate district is a lively and bustling area located in the upper wards of Sharn, the City of Towers. It is named after the Dava Gate, one of the main entrances to the city. The district is known for its diverse population, as well as its thriving markets and bazaars.\n",
    "\n",
    "The district is home to many of Sharn's wealthiest residents, including prominent nobles and successful merchants. It is also a popular destination for visitors to the city, as it offers a wide range of shops, restaurants, and entertainment venues.\n",
    "\n",
    "One of the most famous landmarks in the Dava Gate district is the Grand Bazaar, a massive open-air market that stretches for blocks and sells everything from exotic spices and rare textiles to magical artifacts and enchanted weapons. Other notable attractions in the area include the House Sivis message station, where travelers can send and receive messages via magical means, and the University of Wynarn, a prestigious academic institution that offers courses in a variety of fields.\n",
    "\n",
    "Despite its reputation for wealth and prosperity, the Dava Gate district is not without its dangers. The area is known to be frequented by criminal organizations such as the Boromar Clan, and adventurers are advised to be cautious when exploring its alleys and side streets."
   ]
  },
  {
   "attachments": {},
   "cell_type": "markdown",
   "metadata": {},
   "source": [
    "# Dura\n",
    "\n",
    "Sharn began where Dura stands, but the city has left it behind in many ways. Many nowadays consider the oldest quarter of Sharn to be a blight on the City of Towers. The place is full of cracked and crumbling stonework, abandoned lift shafts, and everbright lanterns that have burned out and never been restored. Dura is riddled with poverty and crime; it's easily the most dangerous section of the city. But it also holds opportunities you can't find anywhere else. If you're looking for smuggled goods or a place to lie low, head to Dura.\n",
    "\n",
    "Middle Dura caters to the working class. Its taverns are modestly priced, but there's gold among the dross.\n",
    "\n",
    "The Bazaar of Dura is the largest commercial district in Sharn. In addition to the dozens of permanent shops and smithies, the streets of the bazaar are an ever-changing tapestry of stalls and tents. It's said that you can find anything here, if you're not too worried about where it came from and if you're prepared to contend with the cutpurses that prey on the crowds.\n",
    "\n",
    "Elsewhere in Middle Dura, the district of Hareth's Folly is a bizarre blend of architectural styles. One of the primary attractions is the Hollow Tower, an enormous arena that features aerial jousting and racing. The King of Fire is a grand tavern that hosts a broad range of gambling and bookmaking activities, legal and otherwise.\n",
    "\n",
    "Many people make their homes in Middle Dura, even if their jobs take them elsewhere. Rattlestone and Tumbledown are mostly poor tenements. Stormhold contains crumbling manors still occupied by some of Sharn's oldest families, while many that have prospered have moved on to more prestigious districts."
   ]
  },
  {
   "attachments": {},
   "cell_type": "markdown",
   "metadata": {},
   "source": [
    "# Ghallanda Hall in Middle Dura\n",
    "\n",
    "tags: #sharn, #inn, #middle dura,\n",
    "\n",
    "This proud Ghallanda enclave continues to operate amid the fading squalor of Middle Dura, and has become a tourist attraction. It offers a range of services, with food and lodging of poor to comfortable quality.\n",
    "\n",
    "Read the following as the players enter Ghallanda Hall\n",
    "\n",
    "> As you step through the ornate entrance of Ghallanda Hall, you are greeted by the welcoming scent of freshly baked bread and the sound of lively music emanating from within. The interior of the inn is stunning, with a soaring glass ceiling bathing the central atrium in natural light. The staff, many of whom bear the dragonmark of House Ghallanda, greet the group with smiles and offer to show them to a private meeting room or invite them to join the festivities in the common area. It's clear that Ghallanda Hall is more than just an inn; it's a hub of warmth and hospitality in the bustling city of Sharn.\n",
    "\n",
    "> Moving further into the Ghallanda Hall common area, you notice the intricate details of the decor, such as the plush carpets and elegant chandeliers, creating an atmosphere of comfort and luxury. You can hear the sounds of laughter and conversation coming from the common area, where patrons sit at wooden tables enjoying hearty meals and local brews. A bard strums a lute and sings a lively tune, adding to the jovial atmosphere. The staff bustles about, delivering dishes and refilling mugs, but never missing a beat in their friendly banter with each other and the guests. It's clear that the reputation of House Ghallanda for hospitality and entertainment is well-deserved in this charming and inviting establishment.\n",
    "\n",
    "## Sample NPCs in Ghallanda Hall\n",
    "\n",
    "### Locals\n",
    "\n",
    "- **Lathenar D'Artena** - a dashing elven **bard who performs nightly at Ghallanda Hall**. He's known for his smooth singing voice and deft skills on the lute, and often attracts a crowd of admirers.\n",
    "- **Marda Ghallanda** - a cheerful halfling who **manages the day-to-day operations of the inn**. She's always ready with a smile and a kind word for her guests, and has a wealth of knowledge about Sharn and the surrounding area.\n",
    "- **Talathel d'Lyrandar** - a half-elf **bartender** who serves up drinks and snacks with a friendly smile. He's also a member of House Lyrandar and can provide information about airship travel for those interested.\n",
    "- **Kesla d'Ghallanda** - a halfling **chef** who runs the kitchen at Ghallanda Hall. Her dishes are famous throughout Sharn for their flavor and presentation.\n",
    "- **Gorin ir'Tharen** - a human **porter** who helps guests with their luggage and any other needs they may have. He's a former soldier and can provide information about the military in Breland.\n",
    "- **Jaskar d'Sivis** - a goblin **crier who announces events and news** in Ghallanda Hall and the surrounding area. He's also a member of House Sivis and can provide translation and communication services for a fee.\n",
    "- **Korinna ir'Vaddar** - a tiefling **receptionist** who greets guests and handles reservations and payments. She's also a member of House Vaddar and can provide information about the nobility and politics of Karrnath.\n",
    "\n",
    "### Guests\n",
    "\n",
    "- **Thurin Galesong** - a dwarf **merchant** who's in town to buy and sell rare goods. He's a frequent visitor to Ghallanda Hall, where he enjoys the cozy atmosphere and hearty meals.\n",
    "- **Hannal ir'Vrinn** - a human **noble** who's visiting from Aundair on business. She's staying in one of the inn's private rooms and can often be found in the common area, sipping wine and conversing with other guests.\n",
    "- **Rynnik ir'Talan** - a gnomish **artificer** who's in town to attend a conference on magical technology. He's fascinated by the dragonmarked houses and spends his evenings chatting with the staff and other guests about the latest developments in arcane research.\n",
    "\n",
    "\n",
    "Ghallanda Hall is a well-known inn and tavern located in the Middle Dura district of Sharn, the City of Towers, in the Eberron campaign setting for Dungeons & Dragons. The establishment is operated by House Ghallanda, a dragonmarked house known for their hospitality and entertainment services.\n",
    "\n",
    "Ghallanda Hall is a popular destination for travelers and locals alike, offering comfortable accommodations, delicious food and drink, and lively entertainment. The inn's staff are known for their friendly and welcoming demeanor, and many of them possess the Mark of Hospitality, a dragonmark that grants them magical abilities related to serving and caring for others.\n",
    "\n",
    "In addition to its guest rooms and common areas, Ghallanda Hall also features a number of private meeting rooms and event spaces, making it a popular venue for business meetings, social gatherings, and other special events.\n",
    "\n",
    "The inn is notable for its distinctive architecture, which includes a soaring central atrium with a glass ceiling, allowing natural light to flood the space during the day. The atrium is surrounded by balconies and walkways, creating a sense of openness and grandeur.\n",
    "\n",
    "Overall, Ghallanda Hall is a warm and welcoming establishment that embodies the hospitality and conviviality for which House Ghallanda is known."
   ]
  }
 ],
 "metadata": {
  "language_info": {
   "name": "python"
  },
  "orig_nbformat": 4
 },
 "nbformat": 4,
 "nbformat_minor": 2
}
