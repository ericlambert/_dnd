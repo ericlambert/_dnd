{
 "cells": [
  {
   "cell_type": "code",
   "execution_count": null,
   "metadata": {},
   "outputs": [],
   "source": [
    "pcs = ['Baron', 'Mav', 'Shane', 'Current']\n",
    "npcs = ['Agatha','Hantho', 'Keen', 'Winshaw', 'Jimmy Cloudfall', 'Khabran']"
   ]
  },
  {
   "cell_type": "markdown",
   "metadata": {},
   "source": [
    "## Placing in Eberron\n",
    "\n",
    "### Placing the town of Blueridge\n",
    "\n",
    "Blueridge lies on an oasis in the Blade Desert 400 miles from Gatherhold (8 days travel by mounted dinosaur).\n",
    "\n",
    "The town is populated by warforged that fought for Valenar in the Last War. The elves of Valenar seem keen on further conflict and these warforged are not into it. They fled Valenar into the Blade Desert where the elves were unlikely to follow. They found a home at a small unnamed halfling outpost along an oasis. The warforged took up residence calling the place Blueridge.\n",
    "\n",
    "Some interesting dynamics have begun developing with the collision of warforged with the tribal nomadic halflings.\n",
    "\n",
    "Blueridge has also come to be a neutral meeting ground and trading post for tribes of halflings as they roam the planes and into the harsher desert.\n",
    "\n",
    "The rift is a [manifest zone](https://eberron.fandom.com/wiki/Manifest_zone) linking [Lamannia, the Twilight Forest](https://5e.tools/book.html#erlw,10,lamannia%2c%20the%20twilight%20forest,0) to Khorvair."
   ]
  },
  {
   "cell_type": "markdown",
   "metadata": {},
   "source": [
    "[Aboleth info](https://forgottenrealms.fandom.com/wiki/Aboleth)"
   ]
  },
  {
   "cell_type": "markdown",
   "metadata": {},
   "source": [
    "## Chapter 1 : A Storms Brewing\n",
    "\n",
    "**Back to Sharn**\n",
    "> *It took half a day to deal with the destruction that your fight with Garra wrought on the luxury car of the Lightning Rail. But everything got sorted and the train proceeded on it's route out through Khorvaire.*\n",
    "> *You, with your prisoner Garra and the stolen relics from Old Sharn (thirteen books, and three paper schemas in scroll tubes), however jumped on the first train back to Sharn. Turning in Garra and handing over the relics to Sargent Vilroy proved relatively straight forward and yielded each of you the final 50gp that you wee promised.*\n",
    "> \n",
    "> *About two weeks pass. How do you each spend that time?*\n",
    "\n",
    "**A new job**\n",
    "> It was just about two weeks ago when, after returning Garra and the Old Sharn artifacts to Sharn you were all contacted by Germaine Vilroy with a new job.\n",
    "> She asked you to track down a water genasi who escaped Sharn with a rare magical artifact called the Amulet of Cleansing a stolen from a wealthy merchant. Germaine has reason to believe that the thief is heading to a remote desert town called Blueridge in the distant Talenta Plains.\n",
    "> She gave you each 100 gold upfront with the promise of an additional 100 gold each when you return with the Amulet of Cleansing undamaged and another 100 gold each if you capture the thief and back them back to the Sharn Watch alive.\n",
    "\n",
    "**Last stop Gatherhold**\n",
    "\n",
    "> TODO Write narration of the lightning rail journey\n",
    "![Lightning Rail route after Day of Mourning](https://i.pinimg.com/originals/22/39/ce/2239ce64737c6bb82487792db484d249.png)\n",
    "\n",
    "**Across the plains**\n",
    "\n",
    "> TODO Write narration of the process of encountering Talena Halflings at Gatherhold, booking passage on dinosaur mount into the Blade Desert and spending 7 days and nights travelling the plains with the nomadic halfling tribes.\n",
    "\n",
    "**Reaching Blueridge**\n",
    "\n",
    "> As you trek through the yellow grey dunes of the desert in search of your quarry, you notice a shimmering in the air.\n",
    "> It seems to move towards you but as you blink it disappears and your eyes see an oasis in the distance, complete with dark green palm trees and clustered adobe houses. It is a welcome respite as the desert winds pick up and the rough grains of sand fly past your eyes.\n",
    "> As you progress toward the settlement you see a deep blue green oasis, about 150 yards round. The surface is still except for the occasional shudder of water as the harsh winds blow across it.\n",
    "> Dinosaur pens with a few dozing Clawfoots flank either end of the town, a warforged struggles to pitch up a canvas tent to cover them.\n",
    "> A farm is tended to at the east end of the oasis where you see the other inhabitants stop, look at the horizon and quickly abandon their work to take cover. A couple of them notice your arrival and gesture frantically to you to get inside a large house as the sandstorm picks up in intensity."
   ]
  },
  {
   "cell_type": "markdown",
   "metadata": {},
   "source": [
    "## About the [Talenta Plains](https://eberron.fandom.com/wiki/Talenta_Plains)\n",
    "\n",
    "**Basic Knowledge** is held by anyone who:\n",
    "- is a [Halfling](https://eberron.fandom.com/wiki/Halfling)\n",
    "- or has been to the region\n",
    "- or is affiliated with one or more of the following Halfling led groups\n",
    "  - [Boromar Clan](https://eberron.fandom.com/wiki/Boromar_Clan)\n",
    "  - [House Ghallanda](https://eberron.fandom.com/wiki/House_Ghallanda)\n",
    "  - [House Jorasco](https://eberron.fandom.com/wiki/House_Jorasco)\n",
    "- or has worked on the Lightning Rail ([House Orien](https://eberron.fandom.com/wiki/House_Orien)) or an Elemental Airship ([House Lyrandar](https://eberron.fandom.com/wiki/House_Lyrandar))\n",
    "- or has an INT score of 12 or higher\n",
    "- or passes a DC 12 History check\n",
    "\n",
    "**Detailed Knowledge** is held by anyone who holds a Basic Knowledge of the [Talenta Plains](https://eberron.fandom.com/wiki/Talenta_Plains) and...\n",
    "- has spent more tha a year in the region\n",
    "- or has an INT score of 16 or higher\n",
    "- or passes a DC 16 History check\n",
    "\n",
    "**Encyclopedic Knowledge** is held by anyone who holds a Detailed Knowledge and...\n",
    "- was raised in the region\n",
    "- currently lives in the region\n",
    "- or has an INT score of 18 or higher\n",
    "- or passes a DC 18 History check\n"
   ]
  },
  {
   "cell_type": "markdown",
   "metadata": {},
   "source": [
    "## Geography, Flora, Fauna of the [Talenta Plains](https://eberron.fandom.com/wiki/Talenta_Plains)\n",
    "\n",
    "![](https://i.pinimg.com/originals/27/fa/d0/27fad02d75d5e005c591ec7e3f5fbda4.jpg)\n",
    "\n",
    "**Basic Knowledge**\n",
    "- The Talenta Plains have been described as an ocean of grasslands. However, between the eastern edge of the plains and Endworld Mountains lies the Blade Desert.\n",
    "- Stories tell of ancient ruins that date back to the first age of the world and of a vast graveyard holding the bones of dragons.\n",
    "- The wild Talenta Plains are heavily populated by dinosaurs.\n",
    "\n",
    "**Detailed Knowledge**\n",
    "- More foreigners visit the Plains than at any time in the past. \n",
    "- Monsters emerge from the Mournland.\n",
    "- Dragonmarked houses seek to expand their role at Gatherhold and to explore the untapped resources of the Plains.\n",
    "\n",
    "**Encyclopedic Knowledge**\n",
    "- You hold a complete understanding of the history of [dinosaurs](https://eberron.fandom.com/wiki/Dinosaur) on Khorvaire"
   ]
  },
  {
   "cell_type": "markdown",
   "metadata": {},
   "source": [
    "## Settlements of the [Talenta Plains](https://eberron.fandom.com/wiki/Talenta_Plains)\n",
    "\n",
    "<img src=\"https://64.media.tumblr.com/9f40211f0b8e47a65a1ecc8f804f718b/2a6c8d690694b44b-a8/s640x960/9549ec9a0eacd1d2b88b54777b284a6c36c0ea1a.jpg\" style=\"transform:rotate(90deg); margin: auto; display: block;\">\n",
    "\n",
    "**Basic Knowledge**\n",
    "- [Gatherhold](https://eberron.fandom.com/wiki/Gatherhold), is the only major settlement in the region and is located at the western end of the plains on the banks of Lake Cyre.\n",
    "- The Lightning Rail ([House Orien](https://eberron.fandom.com/wiki/House_Orien)) makes it's final stop at [Gatherhold](https://eberron.fandom.com/wiki/Gatherhold).\n",
    "\n",
    "**Detailed Knowledge**\n",
    "- Gatherhold is the base of operations for [House Ghallanda](https://eberron.fandom.com/wiki/House_Ghallanda)\n",
    "- All the halfling tribes come to Gatherhold to trade, hold councils, and settle disputes. House Ghallanda maintains the town, but Gatherhold belongs to the people, not the houses. Other dragonmarked houses offer their services here as well. The town is on the shore of Lake Cyre, and once people came by boat through Cyre; now the Mourning has cut off that passage.\n",
    "- There are rumors of a small outpost in the Blade Desert which serves as another meeting place for the tribes when far from Gatherhold.\n",
    "\n",
    "**Encyclopedic Knowledge**\n",
    "- The Wandering Inn, a caravan maintained by members of House Ghallanda is a traveling fair, providing entertainment and shelter to any fortunate enough to cross its path. When times are dark and travelers are weary, one can always hope that the Wandering Inn is just beyond the horizon.\n",
    "- The rumors of a desert outpost are true. A town called Blueridge sits near an oasis in the Blade Desert."
   ]
  },
  {
   "cell_type": "markdown",
   "metadata": {},
   "source": [
    "## Inhabitants of the [Talenta Plains](https://eberron.fandom.com/wiki/Talenta_Plains)\n",
    "\n",
    "**Basic Knowledge**\n",
    "- The Talenta Plains are the ancestral homeland of all halflings.\n",
    "- The halflings inhabiting the Talenta Plains are nomadic and tribal. They have no cities and no industrialized magic.\n",
    "- Those few Talenta halflings who journey across Khorvaire are visibly out of place, both attracting curious stares and expressing plenty of curiosity of their own about the strange ways of Khorvaire's cities and towns.\n",
    "- The halflings domesticated the dinosaurs of the plains and use these creatures as mounts, livestock, and beasts of burden.\n",
    "- A sacred bond exists between a Talenta hunter and dinosaur mount. Few people are prepared to face a raging halfling barbarian riding a furious clawfoot raptor.\n",
    "\n",
    "**Detailed Knowledge**\n",
    "- Talenta warriors are often barbarians or rangers, relying on speed and skill. \n",
    "- Because of the central role that dinosaurs play in the life of the Talenta halflings, most wear a dinosaur mask and adorn themselves with claws and teeth from past dinosaur companions. Some even adopt dinosaur-like mannerisms.\n",
    "- Talenta religion reveres spirits, both departed ancestors and natural spirits. Each tribe has a chieftain who guides the tribe and shamans who consult the spirits and choose the paths of migration.\n",
    "- Talentan halflings shun the ruins scattered across the Plains, believing them to be haunted by fiends.\n",
    "- Many tribes are organized around the type of dinosaur they have become adept at domesticating.\n",
    "\n",
    "**Encyclopedic Knowledge**\n",
    "- The following groups have origins in the Talenta Plains\n",
    "  - Organized crime family in Sharn [Boromar Clan](https://eberron.fandom.com/wiki/Boromar_Clan)\n",
    "  - [House Ghallanda](https://eberron.fandom.com/wiki/House_Ghallanda)\n",
    "  - [House Jorasco](https://eberron.fandom.com/wiki/House_Jorasco)\n",
    "- The Talentan reverence for spirits derives from the fact that a variety of spirits haunt the Plains. The region contains an unusual number of manifest zones tied to Dolurrh and Thelanis. Ghosts are more likely to linger in such places, and minor fey are scattered across the Plains.\n",
    "- Settlers and merchants cross the Plains as they make their way to Q'barra, and they clash with Q'barran bandits.\n",
    "- The Valenar elves ride through the Plains in search of adventure."
   ]
  },
  {
   "cell_type": "markdown",
   "metadata": {},
   "source": [
    "## Impact of the Last War on the [Talenta Plains](https://eberron.fandom.com/wiki/Talenta_Plains)\n",
    "\n",
    "**Basic Knowledge**\n",
    "- In the past, the tribes stood alone, but during the Last War, many halflings came together to defend their land.\n",
    "- Now that the war is over, most of the tribes have returned to their hunting grounds and ancient traditions. They united to defend their way of life, and now they wish to enjoy it.\n",
    "\n",
    "**Detailed Knowledge**\n",
    "- The halflings have no interest in change, but it might be inevitable. The halflings must decide whether the tribes will choose the path of peace or return to war.\n",
    "- Lathon Halpum, coordinated the union of the Talentan tribes and won recognition for the Plains as one of the Treaty of Thronehold nations, though it's still unclear what this means beyond increasing passage between the Plains and the outside world.\n",
    "\n",
    "**Encyclopedic Knowledge**\n",
    "- Lathon Halpum believes that if the tribes can work together, they could become a nation of nations, but others aggressively oppose such a path.\n",
    "- Holy Uldra is a powerful shaman and the leader of her own tribe. She urges halfling warriors to join together for a single purpose: to drive all outsiders from the Plains and to maintain the ancient traditions."
   ]
  },
  {
   "cell_type": "markdown",
   "metadata": {},
   "source": [
    "## About Dragonmarks\n",
    "\n",
    "https://eberron.fandom.com/wiki/Dragonmarks"
   ]
  },
  {
   "cell_type": "markdown",
   "metadata": {},
   "source": [
    "## About Manifest Zones\n",
    "\n",
    "[Manifest Zones]()\n",
    "[Eberron's Astral Plane](https://eberron.fandom.com/wiki/Astral_Plane)"
   ]
  },
  {
   "cell_type": "markdown",
   "metadata": {},
   "source": [
    "## Halflings of the Talenta Plains\n",
    "\n",
    "- Respect the land around us don't develop it.\n",
    "- Live in harmony with the environment and the spirits around them\n",
    "- stear clear of the ruins of the plains which they believe to be haunted by fiends\n",
    "- masked : when you die your spirit goes into the mask\n",
    "\n",
    "### Gatherhold\n",
    "- [Gatherhold](https://eberron.fandom.com/wiki/Gatherhold)\n",
    "- Base of operations for House Ghallanda\n",
    "- [House Orien](https://eberron.fandom.com/wiki/House_Orien) maintains a Lightning Rail stop in Gatherhold\n",
    "\n",
    "### Mood Images\n",
    "\n",
    "![](http://vignette3.wikia.nocookie.net/eberron/images/a/ae/Weapons.png/revision/latest?cb=20140724201543)\n",
    "![](https://media.draconic.io/images/dnd5e/source/wgte/ch-3/halflings.png)\n",
    "![](https://i.pinimg.com/236x/92/95/11/9295114521d05a4567005644f7643577.jpg?nii=t)\n",
    "![](https://db4sgowjqfwig.cloudfront.net/campaigns/192015/assets/844922/halfling_adventurer.jpg?1522459248)\n",
    "![](https://i.pinimg.com/736x/dc/e3/0f/dce30f1285d52ab87fceb42bff820359--fantasy-places-viking.jpg)\n"
   ]
  },
  {
   "cell_type": "markdown",
   "metadata": {},
   "source": [
    "![](http://2.bp.blogspot.com/-nzTI_cpwaQs/UO_WmX7hZXI/AAAAAAAAAGI/zWsfhohXBoo/s1600/1770909-eberron_map.jpg)\n",
    "\n",
    "![](https://i.pinimg.com/originals/27/fa/d0/27fad02d75d5e005c591ec7e3f5fbda4.jpg)\n",
    "\n",
    "![](https://64.media.tumblr.com/9f40211f0b8e47a65a1ecc8f804f718b/2a6c8d690694b44b-a8/s640x960/9549ec9a0eacd1d2b88b54777b284a6c36c0ea1a.jpg)"
   ]
  },
  {
   "cell_type": "markdown",
   "metadata": {},
   "source": [
    "![]('http://2.bp.blogspot.com/-nzTI_cpwaQs/UO_WmX7hZXI/AAAAAAAAAGI/zWsfhohXBoo/s1600/1770909-eberron_map.jpg')"
   ]
  },
  {
   "cell_type": "markdown",
   "metadata": {},
   "source": [
    "## Making Terrain\n",
    "\n",
    "### Ground tiles\n",
    "- [ ] water tiles\n",
    "- [ ] beach/shore tiles\n",
    "- [ ] desert sand tiles\n",
    "- [ ] sand to grass tiles\n",
    "- [ ] grass tiles\n",
    "\n",
    "### Scatter terrain\n",
    "\n",
    "- [ ] Desert themed structure exteriors\n",
    "- [ ] Desert theme structure interiors\n",
    "- [ ] Desert fauna\n",
    "- [ ] Western motif scatter\n",
    "  - [ ] Wagon wheels\n",
    "  - [ ] Hitching posts\n",
    "  - [ ] wooden fences\n",
    "- [ ] Underwater fauna\n",
    "\n",
    "### Minis\n",
    "\n",
    "- [ ] Warforged - printed\n",
    "- [ ] ridable dinosaurs - in cart\n",
    "- [ ] halfling barbarians - in cart\n",
    "- [ ] Water genasi - to print\n",
    "- [ ] Water elementals - to print\n",
    "- [ ] Marid / Djinn - to print\n",
    "- [ ] Aboleth - in cart"
   ]
  },
  {
   "cell_type": "markdown",
   "metadata": {},
   "source": [
    "## Chapter 1 : "
   ]
  }
 ],
 "metadata": {
  "language_info": {
   "name": "python"
  },
  "orig_nbformat": 4
 },
 "nbformat": 4,
 "nbformat_minor": 2
}
