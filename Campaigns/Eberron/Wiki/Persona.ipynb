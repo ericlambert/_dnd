{
 "cells": [
  {
   "cell_type": "markdown",
   "metadata": {},
   "source": [
    "# Persona"
   ]
  },
  {
   "cell_type": "markdown",
   "metadata": {},
   "source": [
    "# Player Characters\n",
    "\n",
    "## Baron\n",
    "\n",
    "## Current\n",
    "\n",
    "## \"Mav\"\n",
    "\n",
    "## Shane\n"
   ]
  },
  {
   "cell_type": "markdown",
   "metadata": {},
   "source": [
    "# NPCs\n",
    "\n",
    "## Garra\n",
    "\n",
    "## Rot\n",
    "\n",
    "## Germaine Vilroy\n",
    "\n",
    "- Seargent in the Sharn watch\n",
    "\n",
    "### Secrets\n",
    "- Has connections to the Boromar Clan\n",
    "\n",
    "## Alden d'Orien\n",
    "\n",
    "## Caden d'Orien\n",
    "\n",
    "- Alden's young son\n",
    "\n",
    "## Aldens Assistant\n",
    "\n",
    "## [Evan d'Ghallanda](https://www.dndbeyond.com/profile/Jonian/characters/63596163)\n",
    "\n",
    "- Halfling based out of Gatherhold in the Talenta Plains\n",
    "- One half of a pair of guides\n",
    "- wears a mask of dinosaur bone\n",
    "- a dragonmark on their left shoulder ([Lesser Mark of Hospitality](https://eberron.fandom.com/wiki/Mark_of_Hospitality))\n",
    "- gregarious\n",
    "\n",
    "## [Jamir d'Jorasco](https://www.dndbeyond.com/profile/Jonian/characters/63596795)\n",
    "\n",
    "- Halfling based out of Gatherhold in the Talenta Plains\n",
    "- One half of a pair of guides\n",
    "- wears a mask of dinosaur bone\n",
    "- a dragonmark on their right shoulder ([Lesser Mark of Healing](https://eberron.fandom.com/wiki/Mark_of_Healing))\n",
    "- stoic"
   ]
  }
 ],
 "metadata": {
  "language_info": {
   "name": "python"
  },
  "orig_nbformat": 4
 },
 "nbformat": 4,
 "nbformat_minor": 2
}
