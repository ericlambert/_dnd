{
 "cells": [
  {
   "cell_type": "markdown",
   "metadata": {},
   "source": [
    "# Terrain Todo list\n",
    "\n",
    "## Make Terrain\n",
    "\n",
    "### Ground tiles\n",
    "- [ ] water tiles\n",
    "- [ ] beach/shore tiles\n",
    "- [ ] desert sand tiles\n",
    "- [ ] sand to grass tiles\n",
    "- [ ] grass tiles\n",
    "\n",
    "### Scatter terrain\n",
    "\n",
    "- [ ] Desert themed structure exteriors\n",
    "- [ ] Desert theme structure interiors\n",
    "- [ ] Desert fauna\n",
    "- [ ] Western motif scatter\n",
    "  - [ ] Wagon wheels\n",
    "  - [ ] Hitching posts\n",
    "  - [ ] wooden fences\n",
    "- [ ] Underwater fauna\n",
    "\n",
    "### Minis\n",
    "\n",
    "- [ ] Warforged - printed\n",
    "- [ ] ridable dinosaurs - in cart\n",
    "- [ ] halfling barbarians - in cart\n",
    "- [ ] Water genasi - to print\n",
    "- [ ] Water elementals - to print\n",
    "- [ ] Marid / Djinn - to print\n",
    "- [ ] Aboleth - in cart"
   ]
  }
 ],
 "metadata": {
  "language_info": {
   "name": "python"
  },
  "orig_nbformat": 4
 },
 "nbformat": 4,
 "nbformat_minor": 2
}
