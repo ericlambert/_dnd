{
 "cells": [
  {
   "cell_type": "markdown",
   "metadata": {},
   "source": [
    "# Chapter 0 : A far away land\n",
    "\n",
    "> *You pull up the thin scarf covering your face as the desert sands whip against you stinging any exposed skin in waves. Your back aches and you shift in the saddle atop the Clawfoot raptor you ride.*\n",
    "> \n",
    "> *Ahead of you ride a pair of tribal halfling guides, Evan and Jamir, who wear masks of dinosaur bone.*\n",
    "> \n",
    "> *Flanking you to your left and right are your fellow adventurers.*\n",
    "> \n",
    "> *As you follow your guides through the desert, your mind turns to the events that led you here.*\n"
   ]
  },
  {
   "cell_type": "markdown",
   "metadata": {},
   "source": [
    "## Back to Sharn\n",
    "\n",
    "> \n",
    "> *It took half a day to deal with the destruction that your fight with Garra wrought on the Lightning Rail. But everything got sorted. The train (less one lunxury car) eventually proceeded on it's route out through the continent of Khorvaire.*\n",
    "> \n",
    "> *With your prisoner Garra as well as relics she had conspired to smuggle from Old Sharn (thirteen books, and three paper schemas in scroll tubes), you however jumped on the first train back to Sharn.*\n",
    "> \n",
    "> *Turning in Garra and handing over the relics to Sargent Vilroy proved relatively straight forward and yielded each of you the final 50gp that you wee promised.*\n",
    "> \n",
    "> *About two weeks passed. How do you each spend that time?*\n"
   ]
  },
  {
   "cell_type": "markdown",
   "metadata": {},
   "source": [
    "## On to the next one\n",
    "\n",
    "> *You returned home one day to find that a note from Alden d'Orien, father to Caden the boy you rescued in Old Sharn and prominent member of House Orien.*\n",
    "> \n",
    "> *Alden, impressed with your ability to save his son, asked you to track down a thief who escaped Sharn with a rare magical artifact called the Amulet of Cleansing, stolen from a wealthy acquaintance of his. His considerable resources have given him reason to believe that the thief, a water genasi, is heading to a remote desert in the distant halfling nation of Talenta Plains.*\n",
    "> \n",
    "> *Attached to the note were roundtrip luxury class Lightning Rail tickets to Gatherhold in Talenta Plains.*\n",
    "> \n",
    "> *His note promised a total of 300 gold. 100 upon boarding the Lighning Rail, as well an additional 100 gold when you return with the Amulet of Cleansing undamaged and another 100 gold if you capture the thief and deliver to the Sharn Watch alive.*\n",
    "> \n",
    "> *How did you prepare for your journey?*\n"
   ]
  },
  {
   "cell_type": "markdown",
   "metadata": {},
   "source": [
    "![Lightning Rail route after Day of Mourning](https://i.pinimg.com/originals/22/39/ce/2239ce64737c6bb82487792db484d249.png)"
   ]
  },
  {
   "cell_type": "markdown",
   "metadata": {},
   "source": [
    "## Last stop Gatherhold\n",
    "\n",
    "> *The ride to the Talenta Plains was long but comfortable. It took about six days to reach Gatherhold by train.*\n",
    "> \n",
    "> *Apparently, before the Day of Mourning, it used to take abut half that time. But since the disaster that destroyed the nation of Cyre, Lightning Rail passage through the region, now called the Mournland, has become impossible.*\n",
    "> \n",
    "> *Instead the train passes far north through the nation of Thrane, before turning east across Aundair and into Karrnath where it turns back south for the final run to Gatherhold.*\n",
    "> \n",
    "> *Eventually, the Lightning Rail comes to a halt at a sandy station at the eastern entrance of Gatherhold. Just beyond the station is the city of Gatherhold, an inviting sprawl of squat buildings, bustling streets, and colorful markets.*\n",
    "> **\n",
    "> \n",
    "> *But you didn't have time for sightseeing, *\n",
    "\n",
    "[Lightning Rail Stations](https://eberron.fandom.com/wiki/Lightning_rail_station)"
   ]
  },
  {
   "cell_type": "markdown",
   "metadata": {},
   "source": [
    "## Across the plains\n",
    "\n",
    "> TODO Write narration of the process of encountering Talena Halflings at Gatherhold, booking passage on dinosaur mount into the Blade Desert and spending 7 days and nights travelling the plains with the nomadic halfling tribes."
   ]
  },
  {
   "cell_type": "markdown",
   "metadata": {},
   "source": [
    "# Chapter 1 : A Storms Brewing"
   ]
  },
  {
   "cell_type": "markdown",
   "metadata": {},
   "source": [
    "## Reaching Blueridge\n",
    "\n",
    "> *As you trek through the yellow grey dunes of the desert in search of your quarry, you notice a shimmering in the air.*\n",
    "> *It seems to move towards you but as you blink it disappears and your eyes see an oasis in the distance, complete with dark green palm trees and clustered adobe houses. It is a welcome respite as the desert winds pick up and the rough grains of sand fly past your eyes.*\n",
    "> *As you progress toward the settlement you see a deep blue green oasis, about 150 yards round. The surface is still except for the occasional shudder of water as the harsh winds blow across it.*\n",
    "> *Dinosaur pens with a few dozing Clawfoots flank either end of the town, a warforged struggles to pitch up a canvas tent to cover them.*\n",
    "> *A farm is tended to at the east end of the oasis where you see the other inhabitants stop, look at the horizon and quickly abandon their work to take cover. A couple of them notice your arrival and gesture frantically to you to get inside a large house as the sandstorm picks up in intensity.*"
   ]
  }
 ],
 "metadata": {
  "language_info": {
   "name": "python"
  },
  "orig_nbformat": 4
 },
 "nbformat": 4,
 "nbformat_minor": 2
}
