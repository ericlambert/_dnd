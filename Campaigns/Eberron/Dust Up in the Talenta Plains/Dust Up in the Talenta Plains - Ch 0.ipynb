{
 "cells": [
  {
   "cell_type": "markdown",
   "metadata": {},
   "source": [
    "# Chapter 0 : A far away land\n",
    "\n",
    "> You pull up the scarf covering your face as wind whips up another wave of desert sands, stinging any exposed skin. It's hot. Your back aches. To ease it you shift your weight in the saddle atop the lean, long-legged bipedal dinosaur you ride. \n",
    "> \n",
    "> Your fellow adventures also ride [Carvers](https://eberron.fandom.com/wiki/Carver) alongside you. Each appearing to feel the same discomfort as you.\n",
    "> \n",
    "> Ahead of you ride a pair of tribal halfling guides, Evan and Jamir. Both bear a drangonmark on one arm and, since you set out from Gatherhold seven days ago, neither of them have removed their dinosaur bone masks.\n",
    "> \n",
    "> \"It won't be long now!\" Evan announces loudly over the howling winds. \"It's a good thing too because this wind is only going to get worse!\"\n",
    "> \n",
    "> As your group traverses the desert, your mind turns to the events of the past two weeks that led you here...\n"
   ]
  },
  {
   "cell_type": "markdown",
   "metadata": {},
   "source": [
    "## Back to Sharn\n",
    "\n",
    "> It took half a day to deal with the destruction that your fight with Garra wrought on the Lightning Rail. But everything got sorted. The train (less one lunxury car) eventually proceeded on it's route out through the continent of Khorvaire.\n",
    "> \n",
    "> With your and newfound ally Rot, your prisoner Garra and relics she had conspired to smuggle from Old Sharn (thirteen books, and three paper schemas in scroll tubes), you however jumped on the first train back to Sharn.\n",
    "> \n",
    "> Turning in Garra and handing over the relics to Sargent Vilroy proved relatively straight forward and yielded each of you the final 50gp that you wee promised.\n",
    "> \n",
    "> About two weeks passed. How do you each spend that time?\n"
   ]
  },
  {
   "cell_type": "markdown",
   "metadata": {},
   "source": [
    "## On to the next one\n",
    "\n",
    "> You returned home one day to find that a note from Alden d'Orien, father to Caden the boy you rescued in Old Sharn and prominent member of House Orien.\n",
    "> \n",
    "> Alden, impressed with your ability to save his son, asked you to track down a thief who escaped Sharn with a rare magical artifact called the Amulet of Cleansing, stolen from a wealthy acquaintance of his. His considerable resources have given him reason to believe that the thief, a water genasi, is heading to a remote desert in the distant halfling nation of Talenta Plains. The expense of your passage to Gatherhold in Talenta will be covered and you should expect to be approached by a guide once you arrive.\n",
    "> \n",
    "> Attached to the note were roundtrip luxury class Lightning Rail tickets to Gatherhold in Talenta Plains.\n",
    "> \n",
    "> His note promised a total of 300 gold. 100 upon boarding the Lighning Rail, as well an additional 100 gold when you return with the Amulet of Cleansing undamaged and another 100 gold if you capture the thief and deliver to the Sharn Watch alive.\n",
    "> \n",
    "> How did you prepare for your journey?\n"
   ]
  },
  {
   "cell_type": "markdown",
   "metadata": {},
   "source": [
    "![Lightning Rail route after Day of Mourning](https://i.pinimg.com/originals/22/39/ce/2239ce64737c6bb82487792db484d249.png)"
   ]
  },
  {
   "cell_type": "markdown",
   "metadata": {},
   "source": [
    "## Last stop Gatherhold\n",
    "\n",
    "> The ride to the Talenta Plains was long but comfortable. It took about six days to reach Gatherhold by train.\n",
    "> \n",
    "> Apparently it used to take abut half that time. But since the the Day of Mourning and the unexplained disaster that destroyed the nation of Cyre, Lightning Rail passage across the region now called the Mournland, has become impossible.\n",
    "> \n",
    "> Instead the train passes far north through the nation of Thrane, before turning east across Aundair and into Karrnath where it turns back south for the final run to Gatherhold.\n",
    "> \n",
    "> Eventually, the train came to a halt at a sandy [Lightning Rail Station](https://eberron.fandom.com/wiki/Lightning_rail_station) at the eastern entrance of Gatherhold. Just beyond the station was the city of Gatherhold, an inviting sprawl of bustling streets and squat adobe buildings wedged between two tall opposing cliff faces themselves littered with homes carved into them.\n",
    "> \n",
    "> As you begun making your way toward the city a pair of halflings in tribal masks approached your group. They each were riding on the back of a [Carver](https://eberron.fandom.com/wiki/Carver). Lean, long-legged bipedal dinosaurs with a feathery, multicolored hide, not unlike a tropical bird, the Carvers have small forearms with sharpened claws, a tail jutting directly out of its rear end and stand about as tall as a human.\n",
    "> \n",
    "> The halflings introduced themselves as Evan and Jamir. Evan did most of the talking while Jamir wordlessly ushered each of you into the saddle of your own [Carver](https://eberron.fandom.com/wiki/Carver). Evan explained that House Orien through House Ghallanda had contracted the two of them to serve as guides for your trek into the Blade Desert, with explicit instruction to leave immediately upon your arrival. Apparently sightseeing in the capitol of the Halfling homeland was not in the cards.\n",
    "> \n",
    "> *\"Jamir and me don't know why you need to go to Blueridge so bad and we don't really care. We just want to see you there quickly and safely. Right Jamir!?\"*\n",
    "> "
   ]
  },
  {
   "cell_type": "markdown",
   "metadata": {},
   "source": [
    "## Across the Talenta Plains\n",
    "\n",
    "> It's been 7 days since your arrival and hasty departure from Gatherhold. Though the journey has become physically tiring, you guides have certainly earned whatever compensation House Orien has given them.\n",
    "> \n",
    "> As you travel, Evan has had a way of keeping the flat plains interesting by pointing out the variety of flora and fauna and speaking about each at length in an oddly interesting way.\n",
    ">\n",
    "> Jamir, a skilled healer, has provided salves for the sunburnt skin and small bumps and bruises that are inevitable on any trek through the Plains. Each night your camp has felt as hospitable as any inn throughout Khorvaire and you have awoken each morning refreshed.\n",
    "> \n",
    "> Some of the sights you have witness have been surreal. Like watching a flock of [Glidewing](https://eberron.fandom.com/wiki/Glidewing) (Pteranodon) circle the huge corpse of a [Swordtooth Titan](https://eberron.fandom.com/wiki/Swordtooth_titan) (Tyrannosaurus) only to realize they are in fact being ridden by a tribe of Halflings.\n",
    "> \n",
    "> Or seeing a [Threehorn](https://eberron.fandom.com/wiki/Threehorn) (or Triceratops) fight off a pack of [Clawfoot](https://eberron.fandom.com/wiki/Clawfoot) (Velociraptors) to defend her kids."
   ]
  },
  {
   "cell_type": "markdown",
   "metadata": {},
   "source": [
    "## Reaching Blueridge\n",
    "\n",
    "> *\"What's that?\"* you hear Evan ask aloud. His words shake from your daydreaming and you notice a strange shimmering in the air. None of you have witnessed this phenomenon so far.\n",
    "> \n",
    "> The shimmering seems to move toward you but as you blink it disappears and your eyes see an oasis in the distance, complete with dark green palm trees and clustered adobe houses. It is a welcome respite as the desert winds pick up and the rough grains of sand fly past your eyes.\n",
    "> \n",
    "> As you progress toward the settlement you see a deep blue green oasis, about 150 yards round. The surface of the water still except for the occasional shudder as a particularly strong wind blows across it.\n",
    "> \n",
    "> Dinosaur pens with a few dozing Clawfoots flank either end of the town and a warforged struggles to pitch up a canvas tent to cover them.\n",
    "> \n",
    "> A farm is tended to at the east end of the oasis where you see the other inhabitants, also warforged, stop, look at the horizon and quickly abandon their work to take cover. A couple of them notice your arrival and gesture frantically to you to get inside a large house with a sign reading \"Tradehouse\" over the door.\n",
    "> \n",
    "> You turn to look behind you and see a massive sandstorm increasing in intensity as it bears down on your location."
   ]
  }
 ],
 "metadata": {
  "language_info": {
   "name": "python"
  },
  "orig_nbformat": 4
 },
 "nbformat": 4,
 "nbformat_minor": 2
}
