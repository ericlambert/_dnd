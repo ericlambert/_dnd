{
 "cells": [
  {
   "cell_type": "markdown",
   "source": [
    "\r\n",
    "# Eberron Campaingn\r\n",
    "\r\n",
    "# Forgotten Relics\r\n"
   ],
   "metadata": {}
  },
  {
   "cell_type": "code",
   "execution_count": 43,
   "source": [
    "import pandas as pd\r\n",
    "#from _dnd._scripts import dnd_functions as dnd #https://realpython.com/python-modules-packages/#package-initialization"
   ],
   "outputs": [
    {
     "output_type": "error",
     "ename": "ImportError",
     "evalue": "attempted relative import with no known parent package",
     "traceback": [
      "\u001b[1;31m---------------------------------------------------------------------------\u001b[0m",
      "\u001b[1;31mImportError\u001b[0m                               Traceback (most recent call last)",
      "\u001b[1;32m~\\AppData\\Local\\Temp/ipykernel_3888/101363382.py\u001b[0m in \u001b[0;36m<module>\u001b[1;34m\u001b[0m\n\u001b[0;32m      1\u001b[0m \u001b[1;32mimport\u001b[0m \u001b[0mpandas\u001b[0m \u001b[1;32mas\u001b[0m \u001b[0mpd\u001b[0m\u001b[1;33m\u001b[0m\u001b[1;33m\u001b[0m\u001b[0m\n\u001b[1;32m----> 2\u001b[1;33m \u001b[1;32mfrom\u001b[0m \u001b[1;33m.\u001b[0m\u001b[0m_scripts\u001b[0m \u001b[1;32mimport\u001b[0m \u001b[0mdnd_functions\u001b[0m \u001b[1;32mas\u001b[0m \u001b[0mdnd\u001b[0m\u001b[1;33m\u001b[0m\u001b[1;33m\u001b[0m\u001b[0m\n\u001b[0m",
      "\u001b[1;31mImportError\u001b[0m: attempted relative import with no known parent package"
     ]
    }
   ],
   "metadata": {}
  },
  {
   "cell_type": "code",
   "execution_count": null,
   "source": [
    "pcs = ['Baron', 'Mav', 'Shane', 'Current']\r\n",
    "enc_old_sharn_dig = ['Goblin1', 'Goblin2', 'Goblin3', 'Goblin4']"
   ],
   "outputs": [],
   "metadata": {}
  },
  {
   "cell_type": "markdown",
   "source": [
    "\r\n",
    "## Session 2\r\n",
    "\r\n",
    "### DM Todo's\r\n",
    "\r\n",
    "- What does it take to open the gate to Old Sharn? Mav wants to go there.\r\n",
    "- How does the item Bag of Beans work? Baron has one\r\n",
    "- What sides would Mav and Baron have fought on in the Last War?\r\n",
    "- Maybe Mav's artifical eye could be empowered by an artificer with some relic of Old Sharn.\r\n",
    "- Where in Sharn is the orphanage that Current supports?\r\n",
    "- Baron is rich?"
   ],
   "metadata": {}
  },
  {
   "cell_type": "markdown",
   "source": [
    "\r\n",
    "## Session 3\r\n",
    "\r\n"
   ],
   "metadata": {}
  },
  {
   "cell_type": "code",
   "execution_count": null,
   "source": [
    "actors = pcs + enc_old_sharn_excavation\r\n"
   ],
   "outputs": [
    {
     "output_type": "execute_result",
     "data": {
      "text/plain": [
       "['Baron',\n",
       " 'Mav',\n",
       " 'Shane',\n",
       " 'Current',\n",
       " 'Goblin1',\n",
       " 'Goblin2',\n",
       " 'Goblin3',\n",
       " 'Goblin4']"
      ]
     },
     "metadata": {},
     "execution_count": 6
    }
   ],
   "metadata": {}
  }
 ],
 "metadata": {
  "orig_nbformat": 4,
  "language_info": {
   "name": "python",
   "version": "3.9.6",
   "mimetype": "text/x-python",
   "codemirror_mode": {
    "name": "ipython",
    "version": 3
   },
   "pygments_lexer": "ipython3",
   "nbconvert_exporter": "python",
   "file_extension": ".py"
  },
  "kernelspec": {
   "name": "python3",
   "display_name": "Python 3.9.6 64-bit"
  },
  "interpreter": {
   "hash": "993719309b7497d4ea980752fffbdfc5c91491f5d8efe44ee08128fdc39f9023"
  }
 },
 "nbformat": 4,
 "nbformat_minor": 2
}