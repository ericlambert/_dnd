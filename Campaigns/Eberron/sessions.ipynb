{
 "cells": [
  {
   "cell_type": "markdown",
   "source": [
    "\r\n",
    "# Eberron Campaingn\r\n",
    "\r\n",
    "# Forgotten Relics\r\n"
   ],
   "metadata": {}
  },
  {
   "cell_type": "code",
   "execution_count": 11,
   "source": [
    "import pandas as pd\r\n",
    "from '../../_scripts/dnd_functions.py' import dnd"
   ],
   "outputs": [
    {
     "output_type": "error",
     "ename": "SyntaxError",
     "evalue": "invalid syntax (Temp/ipykernel_3888/4184467207.py, line 2)",
     "traceback": [
      "\u001b[1;36m  File \u001b[1;32m\"C:\\Users\\Eric\\AppData\\Local\\Temp/ipykernel_3888/4184467207.py\"\u001b[1;36m, line \u001b[1;32m2\u001b[0m\n\u001b[1;33m    from '../../_scripts/dnd_functions.py' import dnd\u001b[0m\n\u001b[1;37m         ^\u001b[0m\n\u001b[1;31mSyntaxError\u001b[0m\u001b[1;31m:\u001b[0m invalid syntax\n"
     ]
    }
   ],
   "metadata": {}
  },
  {
   "cell_type": "code",
   "execution_count": 3,
   "source": [
    "pcs = ['Baron', 'Mav', 'Shane', 'Current']\r\n",
    "enc_old_sharn_dig = ['Goblin1', 'Goblin2', 'Goblin3', 'Goblin4']"
   ],
   "outputs": [],
   "metadata": {}
  },
  {
   "cell_type": "markdown",
   "source": [
    "\r\n",
    "## Session 2\r\n",
    "\r\n",
    "### DM Todo's\r\n",
    "\r\n",
    "- What does it take to open the gate to Old Sharn? Mav wants to go there.\r\n",
    "- How does the item Bag of Beans work? Baron has one\r\n",
    "- What sides would Mav and Baron have fought on in the Last War?\r\n",
    "- Maybe Mav's artifical eye could be empowered by an artificer with some relic of Old Sharn.\r\n",
    "- Where in Sharn is the orphanage that Current supports?\r\n",
    "- Baron is rich?"
   ],
   "metadata": {}
  },
  {
   "cell_type": "markdown",
   "source": [
    "\r\n",
    "## Session 3\r\n",
    "\r\n"
   ],
   "metadata": {}
  },
  {
   "cell_type": "code",
   "execution_count": 6,
   "source": [
    "actors = pcs + enc_old_sharn_excavation\r\n"
   ],
   "outputs": [
    {
     "output_type": "execute_result",
     "data": {
      "text/plain": [
       "['Baron',\n",
       " 'Mav',\n",
       " 'Shane',\n",
       " 'Current',\n",
       " 'Goblin1',\n",
       " 'Goblin2',\n",
       " 'Goblin3',\n",
       " 'Goblin4']"
      ]
     },
     "metadata": {},
     "execution_count": 6
    }
   ],
   "metadata": {}
  }
 ],
 "metadata": {
  "orig_nbformat": 4,
  "language_info": {
   "name": "python",
   "version": "3.9.6",
   "mimetype": "text/x-python",
   "codemirror_mode": {
    "name": "ipython",
    "version": 3
   },
   "pygments_lexer": "ipython3",
   "nbconvert_exporter": "python",
   "file_extension": ".py"
  },
  "kernelspec": {
   "name": "python3",
   "display_name": "Python 3.9.6 64-bit"
  },
  "interpreter": {
   "hash": "993719309b7497d4ea980752fffbdfc5c91491f5d8efe44ee08128fdc39f9023"
  }
 },
 "nbformat": 4,
 "nbformat_minor": 2
}