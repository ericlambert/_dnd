{
 "cells": [
  {
   "attachments": {},
   "cell_type": "markdown",
   "metadata": {},
   "source": [
    "# Long Beach DnD - Sunday Gnomes - Questions for the players"
   ]
  },
  {
   "attachments": {},
   "cell_type": "markdown",
   "metadata": {},
   "source": [
    "# Questions for the Players\n",
    "\n",
    "What follows are a series of questions for each player character to prompt them to flesh out their character"
   ]
  },
  {
   "attachments": {},
   "cell_type": "markdown",
   "metadata": {},
   "source": [
    "## Takanashara - Male Kalashtar Cleric Grave Domain\n",
    "\n",
    "[Character Sheet](https://www.dndbeyond.com/characters/95702103)\n",
    "\n",
    "### General questions\n",
    "- What does Takanashara physically look like?\n",
    "- What is Takanashara's biggest regret or Why does Takanashara need 200 gold Pieces?\n",
    "  - Roll on the [Regrets Table](https://www.dndbeyond.com/sources/erftlw/welcome-to-eberron#EveryoneHasRegrets) or make something up\n",
    "  - Roll on the [Debts Table](https://www.dndbeyond.com/sources/erftlw/welcome-to-eberron#WhyDoYouNeed200GoldPieces) or make something up\n",
    "- What is Takanashara's relationship to Germaine?\n",
    "  - *Germaine was one member of your small congregation in Sharn.*\n",
    "\n",
    "### Cleric\n",
    "- To what faith does Takanashara worship?\n",
    "  - check out the [Foundation of Faith Table](https://www.dndbeyond.com/sources/erftlw/khorvaire-gazeteer-faiths-of-khorvaire#FoundationOfFaith)\n",
    "  - [Deities of Eberron](https://www.dndbeyond.com/sources/erftlw/khorvaire-gazeteer-faiths-of-khorvaire#DeitiesofEberron) could be helpful.\n",
    "  - Given Takanashara has chosen the Grave Domain, the [Undying Court](https://www.dndbeyond.com/sources/erftlw/khorvaire-gazeteer-faiths-of-khorvaire#UndyingCourt) seems like a reasonable choice of faith. It's rooted in elven culture so that might give you an interesting twist to your story.\n",
    "- What was Takanashara's congregation called?\n",
    "- How did Takanashara's congregation come to  an end?\n",
    "\n",
    "### Kalashtar\n",
    "- Here's some good [additional info on Kalashtar](https://keith-baker.com/tag/kalashtar/)\n",
    "  - Relevant stuff starts at \"Kalashtar: do you see most of them living in kalahtar communities,\"...\n",
    "  - This might help you think about answers to these questions\n",
    "- What is the name of the quori spirit linked to you?\n",
    "- Takanashara's only way of 'communicating' with his quori is through dreams. What knowledge does Takanashara have of his quori's memories?\n",
    "- Where is Takanashara from originally?\n",
    "  - Canonically Kalashtar typically live in kalashtar communities but doesn't have to be true for Takanashara.\n",
    "- What is Takanashara's Kalashtar Quirk?\n",
    "  - Roll on the table [Kalashtar Quirks](https://www.dndbeyond.com/sources/erftlw/character-creation#KalashtarQuirks) or make one up\n"
   ]
  },
  {
   "attachments": {},
   "cell_type": "markdown",
   "metadata": {},
   "source": [
    "## Lelie - Female Wood Elf Wild Magic Sorcerer \n",
    "\n",
    "[Character Sheet](https://www.dndbeyond.com/characters/95695007)\n",
    "\n",
    "- This link points to some info on [wood elves within the Ebberon setting](https://www.dndbeyond.com/sources/erftlw/character-creation#WoodElvesTheTairnadal)\n",
    "  - They are called Tairnadal elves\n",
    "  - They dedicate themselves to the arts of war\n",
    "\n",
    "### General questions\n",
    "- What does Lelie physically look like?\n",
    "- What is Lelie's biggest regret and/or Why does Lelie need 200 gold Pieces?\n",
    "  - Roll on the [Regrets Table](https://www.dndbeyond.com/sources/erftlw/welcome-to-eberron#EveryoneHasRegrets) or make something up\n",
    "  - Roll on the [Debts Table](https://www.dndbeyond.com/sources/erftlw/welcome-to-eberron#WhyDoYouNeed200GoldPieces) or make something up\n",
    "- What is Lelie's relationship to Germaine?\n",
    "  - *Germaine pulled Lelie out of her alchemy shop when it exploded.*\n",
    "\n",
    "### Wild Magic Sorcerer\n",
    "\n",
    "- Here's [General info about Sorcerers](https://www.dndbeyond.com/sources/phb/sorcerer#Sorcerer)\n",
    "\n",
    "#### The Origin of the Power\n",
    "\n",
    "Lelie's power comes from wild magic, which means the innate magic comes from the forces of chaos that underlie the order of creation. This magic churns within her, waiting for any outlet.\n",
    "\n",
    "- Does she know or have a theory about the exact source of her power?\n",
    "  - Is it a family curse, passed down to her from distant ancestors? \n",
    "  - Did some extraordinary event leave her blessed with inherent magic but perhaps scarred as well?\n",
    "  - She might have endured exposure to raw magic, perhaps through a planar portal leading to Limbo, the Elemental Planes, or the Far Realm. \n",
    "  - Perhaps she was blessed by a fey being or marked by a demon. \n",
    "  - Or her magic could be a fluke of her birth, with no apparent cause.\n",
    "\n",
    "#### How Lelie feels about the Power\n",
    "\n",
    "- How does Lelie feel about the magical power coursing through her?\n",
    "  - Does she embrace it, try to master it, or revel in its unpredictable nature?\n",
    "  - Is it a blessing or a curse?\n",
    "  - Did she seek it out, or did it find her?\n",
    "  - Did she have the option to refuse it, and does she wish she had?\n",
    "  - What does she intend to do with it?\n",
    "    - Perhaps she feels like she’s been given this power for some lofty purpose.\n",
    "    - Or she might decide that the power gives her the right to do what she wants, to take what she wants from those who lack such power. \n",
    "    - Perhaps her power links her to a powerful individual in the world? Who is that individual?\n",
    "\n",
    "### Wood Elf\n",
    "\n",
    "- Most elves, whether Aereni (high-elves) or Tairnadal (wood-elves) live on an island separate from Khorvaire called Aerenal. Small numbers of elves have migrated to Khorvaire over the centuries though.\n",
    "  - What is Lelie's story about how her family/ancestors came to leave Aeranel for Khorvaire?\n",
    "\n",
    "#### Tradition among the Elves\n",
    "\n",
    "- Elves are generally driven by tradition and respect for the past.\n",
    "  - What is Lelie's relationship with the past?\n",
    "  - Does she value the traditions of her ancestors? Or does she fear that her people are too mired in the past and need to find a way to adapt and move forward?\n",
    "- Most Tairnadal have a tradition of revering a patron ancestor related to their class / profession. Whatever that patron's path, it is your duty to follow their example.\n",
    "  - Who is the legendary ancestral hero of the Tairnadel elves that Lelie has \n",
    "  - Is this something Lelie proudly embraces, or does she resist it? \n",
    "  - Does Lelie know another elf with the same patron ancestor, and what’s your relationship to that character?\n",
    "  - Does Lelie know an elf whose patron ancestor was a bitter rival of hers?\n",
    "  - Do you experience visions of your patron ancestor driving you on a particular course? \n",
    "  - Are you pursuing an epic quest that mirrors your ancestor’s legendary deeds? \n",
    "  - Are you seeking vengeance for the death of a friend or ally? \n",
    "  - Or have you turned away from your people, either by choice or because of the actions of a rival?\n",
    "\n",
    "#### Elves Live Longer\n",
    "\n",
    "- If Lelie was born and raised in Khorvaire, she has grown up among the shorter-lived races. \n",
    "- She might not be as concerned with history and tradition as the Tairnadal back on Aerenal but would know of the traditions. \n",
    "- She could even live your life entirely in the moment, with no care for your family or your legacy. Or you could be fascinated by the history and traditions of your ancestors and try to relearn the ways your family has forgotten.\n",
    "- Consider also whether Lelie has outlived human friends and how that might affect her.\n",
    "- Did she know the parents or grandparents of another member of your party?\n",
    "- Is she trying to repay a debt or fulfill a promise to a long-dead friend?\n",
    "- Is she trying to recapture some spark of the friendship she felt years ago? \n",
    "- Does she remember a time before the Last War?\n",
    "- Did she fight in the war?\n"
   ]
  },
  {
   "attachments": {},
   "cell_type": "markdown",
   "metadata": {},
   "source": [
    "# Notes to tie in Character Backgrounds to the overall story\n",
    "\n",
    "- Takanashara\n",
    "  - The Dal Quor are the dark force driving the quori out of the Dream realm... The Dreaming Dark are a faction of monsters on Khorvaire working to eliminate the kalashtar.\n",
    "- Lelie\n",
    "  - Don't know enough yet... [TODO]"
   ]
  },
  {
   "attachments": {},
   "cell_type": "markdown",
   "metadata": {},
   "source": [
    "## Links and Resources\n",
    "\n",
    "- [Campaign Page](https://www.dndbeyond.com/campaigns/3850344)\n",
    "- [Eberron Rising from the Last War](https://www.dndbeyond.com/sources/erftlw)\n",
    "- [Player's Handbook](https://www.dndbeyond.com/sources/phb)\n",
    "- [5e Tools](https://5e.tools/book.html#erlw)\n",
    "- [Forgotten Relics](https://www.dndbeyond.com/sources/erftlw/building-eberron-adventures-forgotten-relics)\n",
    "- [Map of Sharn](https://eberronmap.johnarcadian.com/sharncityoftowers/)\n",
    "- [donjon5e](https://donjon.bin.sh/5e/)\n",
    "- [ChatGPT](https://chat.openai.com/chat)"
   ]
  },
  {
   "attachments": {},
   "cell_type": "markdown",
   "metadata": {},
   "source": [
    "## Session Beats\n",
    "\n",
    "- [Starting the Adventure](https://www.dndbeyond.com/sources/erftlw/building-eberron-adventures-forgotten-relics#StartingtheAdventure)\n",
    "- [High Walls](https://www.dndbeyond.com/sources/erftlw/building-eberron-adventures-forgotten-relics#HighWalls)\n",
    "- [Mithral Tower](https://www.dndbeyond.com/sources/erftlw/building-eberron-adventures-forgotten-relics#MithralTower)\n",
    "- [Saving Caden](https://www.dndbeyond.com/sources/erftlw/building-eberron-adventures-forgotten-relics#SavingCaden)\n",
    "- [Skycoach Ride](https://www.dndbeyond.com/sources/erftlw/building-eberron-adventures-forgotten-relics#SkycoachRide)\n",
    "- [Terminus](https://www.dndbeyond.com/sources/erftlw/building-eberron-adventures-forgotten-relics#Terminus)\n",
    "- [Lightning Rail to Wroat](https://www.dndbeyond.com/sources/erftlw/building-eberron-adventures-forgotten-relics#LightningRailtoWroat)\n",
    "- [Conclusion](https://www.dndbeyond.com/sources/erftlw/building-eberron-adventures-forgotten-relics#Conclusion)"
   ]
  },
  {
   "attachments": {},
   "cell_type": "markdown",
   "metadata": {},
   "source": [
    "# Describing Sharn\n",
    "\n",
    "As I approached the city of Sharn, I was struck by its sheer size and complexity. The towering spires and hanging gardens seemed to stretch up to the sky, and the intricate web of bridges and walkways connecting them made my head spin. I had never seen anything like it before.\n",
    "\n",
    "As I made my way through the bustling streets, I was struck by the city's diversity. People of all races and cultures bustled about their daily business, some in traditional garb while others wore the latest fashion from the high-end shops that dotted the city. The sound of different languages filled the air, and the smells of exotic foods and spices wafted through the crowded marketplaces.\n",
    "\n",
    "I was amazed by the city's magical technology. The lightning rail system that connected Sharn to other cities in Khorvaire was a marvel of engineering, and the airships that sailed above the city were like something out of a dream. I marveled at the intricate magic circles that powered the city's many streetlamps, casting a warm glow over the crowded streets at night.\n",
    "\n",
    "As I explored the city, I discovered its many factions and power struggles. The Dragonmarked Houses were everywhere, their influence felt in every corner of the city. I saw the shady dealings of the criminal underworld, and the powerful guilds and trade associations that controlled different industries. It was clear that there were many forces at work in Sharn, and that as a newcomer, I would have to choose my allies carefully.\n",
    "\n",
    "Despite all of this, I found the people of Sharn to be friendly and welcoming. They were proud of their city and eager to show it off to me, a newcomer. They invited me to their festivals and performances, and even took me on a tour of the city's famous towers and spires.\n",
    "\n",
    "As I settled into life in Sharn, I realized that it was a city of contrasts. It was a place of great beauty and innovation, but also of darkness and danger. It was a city where anything was possible, for good or for ill. And I knew that I had only scratched the surface of what Sharn had to offer."
   ]
  }
 ],
 "metadata": {
  "kernelspec": {
   "display_name": "Python 3",
   "language": "python",
   "name": "python3"
  },
  "language_info": {
   "codemirror_mode": {
    "name": "ipython",
    "version": 3
   },
   "file_extension": ".py",
   "mimetype": "text/x-python",
   "name": "python",
   "nbconvert_exporter": "python",
   "pygments_lexer": "ipython3",
   "version": "3.9.0"
  },
  "orig_nbformat": 4
 },
 "nbformat": 4,
 "nbformat_minor": 2
}
