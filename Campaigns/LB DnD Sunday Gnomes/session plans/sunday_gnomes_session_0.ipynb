{
 "cells": [
  {
   "attachments": {},
   "cell_type": "markdown",
   "metadata": {},
   "source": [
    "# Long Beach DnD - Sunday Gnomes - Session 0"
   ]
  },
  {
   "attachments": {},
   "cell_type": "markdown",
   "metadata": {},
   "source": [
    "## Agenda\n",
    "\n",
    "- [ ] get to know each other a little better\n",
    "- [ ] have a good time talking about dnd in general and Eberron as a setting\n",
    "- [ ] make sure everyone's character sheets are all good and everyone's comfortable navigating dndbeyond\n",
    "- [ ] schedule a time and place for the first full session\n",
    "- [ ] if we have time build a short shared backstory for the group using Backstory Cards\n"
   ]
  },
  {
   "attachments": {},
   "cell_type": "markdown",
   "metadata": {},
   "source": [
    "## Links and Resources\n",
    "\n",
    "- [Campaign Page](https://www.dndbeyond.com/campaigns/3850344)\n",
    "- [Eberron Rising from the Last War](https://www.dndbeyond.com/sources/erftlw)\n",
    "- [Player's Handbook](https://www.dndbeyond.com/sources/phb)\n",
    "- [5e Tools](https://5e.tools/book.html#erlw)\n",
    "- [Forgotten Relics](https://www.dndbeyond.com/sources/erftlw/building-eberron-adventures-forgotten-relics)\n",
    "- [Map of Sharn](https://eberronmap.johnarcadian.com/sharncityoftowers/)\n",
    "- [donjon5e](https://donjon.bin.sh/5e/)\n",
    "- [ChatGPT](https://chat.openai.com/chat)"
   ]
  },
  {
   "attachments": {},
   "cell_type": "markdown",
   "metadata": {},
   "source": [
    "## Session Beats\n",
    "\n",
    "- [Welcome to Eberron](https://www.dndbeyond.com/sources/erftlw/welcome-to-eberron)\n",
    "- [Sharn, City of Towers](https://www.dndbeyond.com/sources/erftlw/sharn-city-of-towers)\n",
    "- [Standard Shopping](https://www.dndbeyond.com/sources/phb/equipment#Equipment) also PHB 145-149\n",
    "- [Magic Shopping](https://donjon.bin.sh/5e/magic/shop.html)\n",
    "- [Starting the Adventure](https://www.dndbeyond.com/sources/erftlw/building-eberron-adventures-forgotten-relics#StartingtheAdventure)\n",
    "- [How do you know Vilroy](https://www.dndbeyond.com/sources/erftlw/building-eberron-adventures-forgotten-relics#HowDoYouKnowVilroy)\n"
   ]
  },
  {
   "attachments": {},
   "cell_type": "markdown",
   "metadata": {},
   "source": [
    "# Describing Sharn\n",
    "\n",
    "As I approached the city of Sharn, I was struck by its sheer size and complexity. The towering spires and hanging gardens seemed to stretch up to the sky, and the intricate web of bridges and walkways connecting them made my head spin. I had never seen anything like it before.\n",
    "\n",
    "As I made my way through the bustling streets, I was struck by the city's diversity. People of all races and cultures bustled about their daily business, some in traditional garb while others wore the latest fashion from the high-end shops that dotted the city. The sound of different languages filled the air, and the smells of exotic foods and spices wafted through the crowded marketplaces.\n",
    "\n",
    "I was amazed by the city's magical technology. The lightning rail system that connected Sharn to other cities in Khorvaire was a marvel of engineering, and the airships that sailed above the city were like something out of a dream. I marveled at the intricate magic circles that powered the city's many streetlamps, casting a warm glow over the crowded streets at night.\n",
    "\n",
    "As I explored the city, I discovered its many factions and power struggles. The Dragonmarked Houses were everywhere, their influence felt in every corner of the city. I saw the shady dealings of the criminal underworld, and the powerful guilds and trade associations that controlled different industries. It was clear that there were many forces at work in Sharn, and that as a newcomer, I would have to choose my allies carefully.\n",
    "\n",
    "Despite all of this, I found the people of Sharn to be friendly and welcoming. They were proud of their city and eager to show it off to me, a newcomer. They invited me to their festivals and performances, and even took me on a tour of the city's famous towers and spires.\n",
    "\n",
    "As I settled into life in Sharn, I realized that it was a city of contrasts. It was a place of great beauty and innovation, but also of darkness and danger. It was a city where anything was possible, for good or for ill. And I knew that I had only scratched the surface of what Sharn had to offer."
   ]
  }
 ],
 "metadata": {
  "kernelspec": {
   "display_name": "Python 3",
   "language": "python",
   "name": "python3"
  },
  "language_info": {
   "codemirror_mode": {
    "name": "ipython",
    "version": 3
   },
   "file_extension": ".py",
   "mimetype": "text/x-python",
   "name": "python",
   "nbconvert_exporter": "python",
   "pygments_lexer": "ipython3",
   "version": "3.9.0"
  },
  "orig_nbformat": 4
 },
 "nbformat": 4,
 "nbformat_minor": 2
}
