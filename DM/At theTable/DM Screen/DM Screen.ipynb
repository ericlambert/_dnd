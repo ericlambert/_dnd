{
 "cells": [
  {
   "cell_type": "markdown",
   "source": [
    "\r\n",
    "# DM Screen\r\n"
   ],
   "metadata": {}
  },
  {
   "cell_type": "code",
   "execution_count": 1,
   "source": [
    "import pandas as pd"
   ],
   "outputs": [],
   "metadata": {}
  },
  {
   "cell_type": "code",
   "execution_count": null,
   "source": [
    "pcs = ['Baron', 'Mav', 'Shane', 'Current']\r\n",
    "enc_old_sharn_dig = ['Goblin1', 'Goblin2', 'Goblin3', 'Goblin4']"
   ],
   "outputs": [],
   "metadata": {}
  },
  {
   "cell_type": "markdown",
   "source": [
    "\r\n",
    "# Encounter Tracker\r\n"
   ],
   "metadata": {}
  },
  {
   "cell_type": "code",
   "execution_count": null,
   "source": [
    "actors = pcs + enc_old_sharn_excavation\r\n",
    "\r\n",
    "# get initiative scores\r\n",
    "\r\n",
    "# determine initiative order\r\n",
    "\r\n",
    "# "
   ],
   "outputs": [
    {
     "output_type": "execute_result",
     "data": {
      "text/plain": [
       "['Baron',\n",
       " 'Mav',\n",
       " 'Shane',\n",
       " 'Current',\n",
       " 'Goblin1',\n",
       " 'Goblin2',\n",
       " 'Goblin3',\n",
       " 'Goblin4']"
      ]
     },
     "metadata": {},
     "execution_count": 6
    }
   ],
   "metadata": {}
  },
  {
   "cell_type": "markdown",
   "source": [
    "\r\n",
    "# Treasure Generator\r\n"
   ],
   "metadata": {}
  },
  {
   "cell_type": "code",
   "execution_count": null,
   "source": [
    "# randomly pick item from Grffon's Saddlebag\r\n",
    "\r\n",
    "# randomly pick item based on dmg tables"
   ],
   "outputs": [],
   "metadata": {}
  }
 ],
 "metadata": {
  "orig_nbformat": 4,
  "language_info": {
   "name": "python",
   "version": "3.9.6",
   "mimetype": "text/x-python",
   "codemirror_mode": {
    "name": "ipython",
    "version": 3
   },
   "pygments_lexer": "ipython3",
   "nbconvert_exporter": "python",
   "file_extension": ".py"
  },
  "kernelspec": {
   "name": "python3",
   "display_name": "Python 3.9.6 64-bit"
  },
  "interpreter": {
   "hash": "993719309b7497d4ea980752fffbdfc5c91491f5d8efe44ee08128fdc39f9023"
  }
 },
 "nbformat": 4,
 "nbformat_minor": 2
}