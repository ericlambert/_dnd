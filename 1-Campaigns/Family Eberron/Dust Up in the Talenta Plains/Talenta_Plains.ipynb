{
 "cells": [
  {
   "cell_type": "markdown",
   "metadata": {},
   "source": [
    "# About the [Talenta Plains](https://eberron.fandom.com/wiki/Talenta_Plains)\n"
   ]
  },
  {
   "cell_type": "markdown",
   "metadata": {},
   "source": [
    "## Differences from Canon\n",
    "\n",
    "**Placing the town of Blueridge**\n",
    "\n",
    "In order to work it into the Eberron setting, I slightly adopted the town of Blueridge from the one-off adventure \"Dust Up in the Oasis\" by Alika Gupta.\n",
    "\n",
    "Blueridge lies on the banks of an oasis in the Blade Desert in the Talenta Plains region, some 400 miles east of Gatherhold (8 days travel by mounted dinosaur).\n",
    "\n",
    "The small settlement is populated by warforged that fought for the elves of Valenar in the Last War. Following the war, the elves seemed keen on further conflict (and still do today) and these warforged were not. So they fled Valenar north into the Blade Desert where the elves were unlikely to follow.\n",
    "\n",
    "They followed the desert into Talenta and found a small oasis. The warforged took up residence calling the place Blueridge.\n",
    "\n",
    "That was about 2 years ago and some interesting dynamics begun developing with the collision of warforged with the tribal nomadic halflings.\n",
    "\n",
    "While Gatherhold dwarfs the small community, Blueridge has come to be another, less formal, neutral meeting ground and trading post for tribes of Talenta halflings as they roam the arid planes and harsh desert.\n",
    "\n",
    "Unbeknownst to anyone, the oasis on which Blueridge formed is actually the product of a [manifest zone](https://eberron.fandom.com/wiki/Manifest_zone) linking [Lamannia, the Twilight Forest](https://5e.tools/book.html#erlw,10,lamannia%2c%20the%20twilight%20forest,0) to Khorvair."
   ]
  },
  {
   "cell_type": "markdown",
   "metadata": {},
   "source": [
    "\n",
    "**Basic Knowledge** is held by anyone who:\n",
    "- is a [Halfling](https://eberron.fandom.com/wiki/Halfling)\n",
    "- or has been to the region\n",
    "- or is affiliated with one or more of the following Halfling led groups\n",
    "  - [Boromar Clan](https://eberron.fandom.com/wiki/Boromar_Clan)\n",
    "  - [House Ghallanda](https://eberron.fandom.com/wiki/House_Ghallanda)\n",
    "  - [House Jorasco](https://eberron.fandom.com/wiki/House_Jorasco)\n",
    "- or has worked on the Lightning Rail ([House Orien](https://eberron.fandom.com/wiki/House_Orien)) or an Elemental Airship ([House Lyrandar](https://eberron.fandom.com/wiki/House_Lyrandar))\n",
    "- or succeeds on a DC 10 History check (passive or active)\n",
    "\n",
    "**Detailed Knowledge** is held by anyone who holds a Basic Knowledge of the [Talenta Plains](https://eberron.fandom.com/wiki/Talenta_Plains) and...\n",
    "- has spent more tha a year in the region\n",
    "- or succeeds on a DC 12 History check (passive or active)\n",
    "\n",
    "**Encyclopedic Knowledge** is held by anyone who holds a Detailed Knowledge and...\n",
    "- was raised in the region\n",
    "- or currently lives in the region\n",
    "- or succeeds on a DC 14 History check (passive or active)\n"
   ]
  },
  {
   "cell_type": "markdown",
   "metadata": {},
   "source": [
    "![](https://i.pinimg.com/originals/27/fa/d0/27fad02d75d5e005c591ec7e3f5fbda4.jpg)"
   ]
  },
  {
   "cell_type": "markdown",
   "metadata": {},
   "source": [
    "## Geography, Flora, Fauna of the [Talenta Plains](https://eberron.fandom.com/wiki/Talenta_Plains)\n",
    "\n",
    "**Basic Knowledge**\n",
    "- The Talenta Plains have been described as an ocean of grasslands. However, between the eastern edge of the plains and Endworld Mountains lies the Blade Desert.\n",
    "- Stories tell of ancient ruins that date back to the first age of the world and of a vast graveyard holding the bones of dragons.\n",
    "- The wild Talenta Plains are heavily populated by dinosaurs.\n",
    "\n",
    "**Detailed Knowledge**\n",
    "- More foreigners visit the Plains than at any time in the past.\n",
    "- Monsters emerge regularly from the Mournland into the Talenta Plains via the strip of border north of Lake Cyre.\n",
    "- All dragonmarked houses seek to expand their role at Gatherhold and to explore the untapped resources of the Plains.\n",
    "- There are an unusually high number of [manifest zones](https://eberron.fandom.com/wiki/Manifest_zone) in the Talenta Plains.\n",
    "\n",
    "**Encyclopedic Knowledge**\n",
    "- You hold a complete understanding of the history of [dinosaurs](https://eberron.fandom.com/wiki/Dinosaur) on Khorvaire.\n",
    "- Most of the [manifest zones](https://eberron.fandom.com/wiki/Manifest_zone in the region are connected to the planes of [Thelanis the Faerie Court](https://eberron.fandom.com/wiki/Thelanis) (the home of Fey creatures) and [Dolurrh the Realm of the Dead](https://eberron.fandom.com/wiki/Dolurrh) (where mortals go when they die) though that is not always the case."
   ]
  },
  {
   "cell_type": "markdown",
   "metadata": {},
   "source": [
    "<img src=\"https://64.media.tumblr.com/9f40211f0b8e47a65a1ecc8f804f718b/2a6c8d690694b44b-a8/s640x960/9549ec9a0eacd1d2b88b54777b284a6c36c0ea1a.jpg\" style=\"transform:rotate(90deg); margin: auto; display: block;\">"
   ]
  },
  {
   "cell_type": "markdown",
   "metadata": {},
   "source": [
    "## Settlements of the [Talenta Plains](https://eberron.fandom.com/wiki/Talenta_Plains)\n",
    "\n",
    "### Gatherhold\n",
    "\n",
    "**Basic Knowledge**\n",
    "- [Gatherhold](https://eberron.fandom.com/wiki/Gatherhold), is the only major settlement in the region and is located at the western end of the plains on the banks of Lake Cyre.\n",
    "- The Lightning Rail ([House Orien](https://eberron.fandom.com/wiki/House_Orien)) makes it's final stop at [Gatherhold](https://eberron.fandom.com/wiki/Gatherhold).\n",
    "\n",
    "**Detailed Knowledge**\n",
    "- Gatherhold is the base of operations for [House Ghallanda](https://eberron.fandom.com/wiki/House_Ghallanda)\n",
    "- All the halfling tribes come to Gatherhold to trade, hold councils, and settle disputes. House Ghallanda maintains the town, but Gatherhold belongs to the people, not the houses. Other dragonmarked houses offer their services here as well. The town is on the shore of Lake Cyre, and once people came by boat through Cyre; now the Mourning has cut off that passage.\n",
    "- There are rumors of a small outpost in the Blade Desert which serves as another meeting place for the tribes when far from Gatherhold.\n",
    "\n",
    "**Encyclopedic Knowledge**\n",
    "- The Wandering Inn, a caravan maintained by members of House Ghallanda is a traveling fair, providing entertainment and shelter to any fortunate enough to cross its path. When times are dark and travelers are weary, one can always hope that the Wandering Inn is just beyond the horizon.\n",
    "- The rumors of a desert outpost are true. A town called Blueridge sits near an oasis in the Blade Desert.\n",
    "\n",
    "#### More about Gatherhold\n",
    "[Unmined decription](https://kanka.io/en-US/campaign/6529/locations/35460)"
   ]
  },
  {
   "cell_type": "markdown",
   "metadata": {},
   "source": [
    "## Inhabitants of the [Talenta Plains](https://eberron.fandom.com/wiki/Talenta_Plains)\n",
    "\n",
    "**Basic Knowledge**\n",
    "- The Talenta Plains are the ancestral homeland of all halflings.\n",
    "- The halflings inhabiting the Talenta Plains are nomadic and tribal. They have no cities and no industrialized magic.\n",
    "- Those few Talenta halflings who journey across Khorvaire are visibly out of place, both attracting curious stares and expressing plenty of curiosity of their own about the strange ways of Khorvaire's cities and towns.\n",
    "- The halflings domesticated the dinosaurs of the plains and use these creatures as mounts, livestock, and beasts of burden.\n",
    "- A sacred bond exists between a Talenta hunter and dinosaur mount. Few people are prepared to face a raging halfling barbarian riding a furious clawfoot raptor.\n",
    "\n",
    "**Detailed Knowledge**\n",
    "- Talenta warriors are often barbarians or rangers, relying on speed and skill. \n",
    "- Because of the central role that dinosaurs play in the life of the Talenta halflings, most wear a dinosaur mask and adorn themselves with claws and teeth from past dinosaur companions. Some even adopt dinosaur-like mannerisms.\n",
    "- Talenta religion reveres spirits, both departed ancestors and natural spirits. Each tribe has a chieftain who guides the tribe and shamans who consult the spirits and choose the paths of migration.\n",
    "- Talentan halflings shun the ruins scattered across the Plains, believing them to be haunted by fiends.\n",
    "- Many tribes are organized around the type of dinosaur they have become adept at domesticating.\n",
    "\n",
    "**Encyclopedic Knowledge**\n",
    "- The following groups have origins in the Talenta Plains\n",
    "  - Organized crime family in Sharn [Boromar Clan](https://eberron.fandom.com/wiki/Boromar_Clan)\n",
    "  - [House Ghallanda](https://eberron.fandom.com/wiki/House_Ghallanda)\n",
    "  - [House Jorasco](https://eberron.fandom.com/wiki/House_Jorasco)\n",
    "- The Talentan reverence for spirits derives from the fact that a variety of spirits haunt the Plains. The region contains an unusual number of manifest zones tied to Dolurrh and Thelanis. Ghosts are more likely to linger in such places, and minor fey are scattered across the Plains.\n",
    "- Settlers and merchants cross the Plains as they make their way to Q'barra, and they clash with Q'barran bandits.\n",
    "- The Valenar elves ride through the Plains in search of adventure."
   ]
  },
  {
   "cell_type": "markdown",
   "metadata": {},
   "source": [
    "## Impact of the Last War on the [Talenta Plains](https://eberron.fandom.com/wiki/Talenta_Plains)\n",
    "\n",
    "**Basic Knowledge**\n",
    "- In the past, the tribes stood alone, but during the Last War, many halflings came together to defend their land.\n",
    "- Now that the war is over, most of the tribes have returned to their hunting grounds and ancient traditions. They united to defend their way of life, and now they wish to enjoy it.\n",
    "\n",
    "**Detailed Knowledge**\n",
    "- The halflings have no interest in change, but it might be inevitable. The halflings must decide whether the tribes will choose the path of peace or return to war.\n",
    "- Lathon Halpum, coordinated the union of the Talentan tribes and won recognition for the Plains as one of the Treaty of Thronehold nations, though it's still unclear what this means beyond increasing passage between the Plains and the outside world.\n",
    "\n",
    "**Encyclopedic Knowledge**\n",
    "- Lathon Halpum believes that if the tribes can work together, they could become a nation of nations, but others aggressively oppose such a path.\n",
    "- Holy Uldra is a powerful shaman and the leader of her own tribe. She urges halfling warriors to join together for a single purpose: to drive all outsiders from the Plains and to maintain the ancient traditions."
   ]
  },
  {
   "cell_type": "markdown",
   "metadata": {},
   "source": [
    "## About Dragonmarks\n",
    "\n",
    "https://eberron.fandom.com/wiki/Dragonmarks"
   ]
  },
  {
   "cell_type": "markdown",
   "metadata": {},
   "source": [
    "## About Manifest Zones\n",
    "\n",
    "[Manifest Zones]()\n",
    "[Eberron's Astral Plane](https://eberron.fandom.com/wiki/Astral_Plane)"
   ]
  },
  {
   "cell_type": "markdown",
   "metadata": {},
   "source": [
    "## About Aboleths\n",
    "\n",
    "[Aboleth](https://forgottenrealms.fandom.com/wiki/Aboleth)"
   ]
  },
  {
   "cell_type": "markdown",
   "metadata": {},
   "source": [
    "## About Lightning Rail\n",
    "\n",
    "[](https://www.reddit.com/r/Eberron/comments/r8wusk/how_fast_does_the_lightning_rail_go_and_how_far/)\n",
    "\n",
    "Speed (30mph)\n",
    "\n",
    "### Routes\n",
    "\n",
    "|Route Number|Depart|Arrive|Distance (mi)|Travel Time (hrs)|Running Travel Time (hrs)|Days|\n",
    "|--|-----|-----|---|--|--|----|\n",
    "|1|Sharn|Wroat|450|15|15|0.625|\n",
    "|2|Wroat|Hatheril|900|30|45|1.875|\n",
    "|3|Hatheril|Sword_Keep|210|7|52|2.166666667|\n",
    "|4|Sword_Keep|Fort_Light|60|2|54|2.25|\n",
    "|5|Fort_Light|Ghalt|300|10|64|2.666666667|\n",
    "|6|Ghalt|Passage|150|5|69|2.875|\n",
    "|7|Passage|Fairhaven|450|15|84|3.5|\n",
    "|8|Fairhaven|Thaliost|510|17|101|4.208333333|\n",
    "|9|Thaliost|Bekkenmark|30|1|102|4.25|\n",
    "|10|Bekkenmark|Korth|90|3|105|4.375|\n",
    "|11|Korth|Atur|120|4|109|4.541666667|\n",
    "|12|Atur|Vedykar|120|4|113|4.708333333|\n",
    "|13|Vedykar|Fort_Zombie|120|4|117|4.875|\n",
    "|14|Fort_Zombie|Gatherhold|450|15|132|5.5|\n"
   ]
  },
  {
   "cell_type": "markdown",
   "metadata": {},
   "source": [
    "![Lightning Rail route after Day of Mourning](https://i.pinimg.com/originals/22/39/ce/2239ce64737c6bb82487792db484d249.png)"
   ]
  },
  {
   "cell_type": "markdown",
   "metadata": {},
   "source": [
    "### Talenta Mood Images\n",
    "\n",
    "![](http://vignette3.wikia.nocookie.net/eberron/images/a/ae/Weapons.png/revision/latest?cb=20140724201543)\n",
    "![](https://media.draconic.io/images/dnd5e/source/wgte/ch-3/halflings.png)\n",
    "![](https://i.pinimg.com/236x/92/95/11/9295114521d05a4567005644f7643577.jpg?nii=t)\n",
    "![](https://db4sgowjqfwig.cloudfront.net/campaigns/192015/assets/844922/halfling_adventurer.jpg?1522459248)\n",
    "![](https://i.pinimg.com/736x/dc/e3/0f/dce30f1285d52ab87fceb42bff820359--fantasy-places-viking.jpg)\n"
   ]
  },
  {
   "cell_type": "markdown",
   "metadata": {},
   "source": [
    "# Maps of Talenta Plains\n",
    "\n",
    "![](http://2.bp.blogspot.com/-nzTI_cpwaQs/UO_WmX7hZXI/AAAAAAAAAGI/zWsfhohXBoo/s1600/1770909-eberron_map.jpg)\n",
    "\n",
    "![](https://i.pinimg.com/originals/27/fa/d0/27fad02d75d5e005c591ec7e3f5fbda4.jpg)\n",
    "\n",
    "<img src=\"https://64.media.tumblr.com/9f40211f0b8e47a65a1ecc8f804f718b/2a6c8d690694b44b-a8/s640x960/9549ec9a0eacd1d2b88b54777b284a6c36c0ea1a.jpg\" style=\"transform:rotate(90deg); margin: auto; display: block;\">"
   ]
  },
  {
   "cell_type": "markdown",
   "metadata": {},
   "source": [
    "# Appendix\n",
    "\n",
    "## Additional Encounters\n",
    "[Gathering at Gatherhold](https://www.dndbeyond.com/posts/655-encounter-of-the-week-gathering-at-gatherhold)\n"
   ]
  },
  {
   "cell_type": "markdown",
   "metadata": {},
   "source": [
    "![]('http://2.bp.blogspot.com/-nzTI_cpwaQs/UO_WmX7hZXI/AAAAAAAAAGI/zWsfhohXBoo/s1600/1770909-eberron_map.jpg')"
   ]
  }
 ],
 "metadata": {
  "language_info": {
   "name": "python"
  },
  "orig_nbformat": 4
 },
 "nbformat": 4,
 "nbformat_minor": 2
}
