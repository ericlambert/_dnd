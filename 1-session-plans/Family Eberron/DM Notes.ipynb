{
 "cells": [
  {
   "cell_type": "markdown",
   "metadata": {},
   "source": [
    "### DM Todo's\n",
    "\n",
    "- What does it take to open the gate to Old Sharn? Mav wants to go there.\n",
    "- How does the item Bag of Beans work? Baron has one\n",
    "- What sides would Mav and Baron have fought on in the Last War?\n",
    "- Maybe Mav's artificial eye could be empowered by an artificer with some relic of Old Sharn.\n",
    "- Where in Sharn is the orphanage that Current supports?\n",
    "- Baron is rich?"
   ]
  },
  {
   "cell_type": "markdown",
   "metadata": {},
   "source": [
    "Current has an orphanage contact named Surge... Older human male\n",
    "Current sleeps on the roof of the orphanage inside Surge's pideon coop\n",
    "\n",
    "Baron is interested in bringing the thief to justice\n",
    "Current is interested in gold\n",
    "Shane is interested in gold and more adventuring experience away from his parents' tannery\n",
    "\n",
    "Mav hangs out at a local fitness facility and has been training people\n",
    "\n",
    "Baron knows much about Talenta (Encyclopedic Knowledge)"
   ]
  }
 ],
 "metadata": {
  "language_info": {
   "name": "python"
  },
  "orig_nbformat": 4
 },
 "nbformat": 4,
 "nbformat_minor": 2
}
