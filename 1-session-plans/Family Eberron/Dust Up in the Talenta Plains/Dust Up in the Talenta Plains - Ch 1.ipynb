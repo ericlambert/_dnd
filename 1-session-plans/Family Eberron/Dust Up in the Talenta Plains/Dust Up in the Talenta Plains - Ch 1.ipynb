{
 "cells": [
  {
   "cell_type": "markdown",
   "metadata": {},
   "source": [
    "# Dust Up in the Talenta Plains - Ch 1 : A Storm's Brewing\n",
    "\n"
   ]
  }
 ],
 "metadata": {
  "language_info": {
   "name": "python"
  },
  "orig_nbformat": 4
 },
 "nbformat": 4,
 "nbformat_minor": 2
}
